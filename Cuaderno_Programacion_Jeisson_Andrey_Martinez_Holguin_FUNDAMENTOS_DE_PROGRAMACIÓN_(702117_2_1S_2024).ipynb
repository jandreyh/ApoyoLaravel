{
  "nbformat": 4,
  "nbformat_minor": 0,
  "metadata": {
    "colab": {
      "provenance": [],
      "toc_visible": true,
      "include_colab_link": true
    },
    "kernelspec": {
      "name": "python3",
      "display_name": "Python 3"
    },
    "language_info": {
      "name": "python"
    }
  },
  "cells": [
    {
      "cell_type": "markdown",
      "metadata": {
        "id": "view-in-github",
        "colab_type": "text"
      },
      "source": [
        "<a href=\"https://colab.research.google.com/github/jandreyh/ApoyoLaravel/blob/main/Cuaderno_Programacion_Jeisson_Andrey_Martinez_Holguin_FUNDAMENTOS_DE_PROGRAMACI%C3%93N_(702117_2_1S_2024).ipynb\" target=\"_parent\"><img src=\"https://colab.research.google.com/assets/colab-badge.svg\" alt=\"Open In Colab\"/></a>"
      ]
    },
    {
      "cell_type": "markdown",
      "source": [
        "# Que es Python"
      ],
      "metadata": {
        "id": "0e6ExEwaVv31"
      }
    },
    {
      "cell_type": "markdown",
      "source": [
        "\n",
        "Python es un lenguaje de programación con amplias posibilidades creado por Guido Van Rossum, debido a su sintaxis simple, resulta muy sencillo de aprender. Posee una estructura de alto nivel, que es simple pero efectiva para la programación orientada a objetos. La sintaxis de Python, simple pero elegante, y su tipado dinámico, junto con su naturaleza interpretada, hacen de este lenguaje una opción ideal para el scripting y el desarrollo rápido de aplicaciones en múltiples áreas, siendo además un lenguaje multiplataforma.\n",
        "\n",
        "El intérprete de Python es compatible con una extensa cantidad de bibliotecas, muchas de las cuales se encuentran disponibles en la página web oficial de Python. En este sitio, se pueden encontrar bibliotecas de terceros, programas, herramientas y documentación adicional.\n",
        "\n",
        "Este intérprete es fácilmente extensible con funciones y tipos de datos implementados en lenguajes como C o C++. Además, Python es un lenguaje apropiado para extender aplicaciones modificables."
      ],
      "metadata": {
        "id": "9S_eodlvFrhZ"
      }
    },
    {
      "cell_type": "markdown",
      "source": [
        "#Interprete de Python"
      ],
      "metadata": {
        "id": "27m2pSbOR-Ri"
      }
    },
    {
      "cell_type": "markdown",
      "source": [
        "Un interprete es un programa que ejecuta las intrucciones escritas en un lenguaje de alto nivel, en los sistemas linux y macOS se encuentra instalado en /usr/bin/python, mientras que en windows se instala normalemnte en c:/python"
      ],
      "metadata": {
        "id": "mKKgR3suvKxR"
      }
    },
    {
      "cell_type": "markdown",
      "source": [
        "# Breve historia de python"
      ],
      "metadata": {
        "id": "XAu5TLrE-8XB"
      }
    },
    {
      "cell_type": "markdown",
      "source": [
        "Su creacion comenzo a finales de los 80s y principios de los 90s, creada por guido van rossum que trabajaba en el cwi espezo como un pasatiemp odandole continuidad al lenguaje de programacion abc del que habia participado en su desarrollo"
      ],
      "metadata": {
        "id": "I4zaGv4FCRRg"
      }
    },
    {
      "cell_type": "markdown",
      "source": [
        "#Ejemplos de codigo simple\n"
      ],
      "metadata": {
        "id": "iNDNUCVxGb7G"
      }
    },
    {
      "cell_type": "code",
      "source": [
        "def factorial(x):\n",
        "    assert x >= 0 and x % 1 == 0, \"x debe ser un entero mayor o igual a 0.\"\n",
        "    if x == 0:\n",
        "        return 1\n",
        "    else:\n",
        "        return x * factorial(x - 1)"
      ],
      "metadata": {
        "id": "tmKT9u7xV0a1"
      },
      "execution_count": null,
      "outputs": []
    },
    {
      "cell_type": "markdown",
      "source": [
        "#Tarea"
      ],
      "metadata": {
        "id": "6H5XmsbiYQDL"
      }
    },
    {
      "cell_type": "markdown",
      "source": [
        "##Calcular areas de figuras geometricas"
      ],
      "metadata": {
        "id": "vjp6LMXx3FF7"
      }
    },
    {
      "cell_type": "code",
      "source": [
        "import math\n",
        "\n",
        "def calcular_area_rectangulo(longitud, anchura):\n",
        "    return longitud * anchura\n",
        "\n",
        "def calcular_circunferencia(radio):\n",
        "    return 2 * math.pi * radio\n",
        "\n",
        "def area_cuadrado(lado):\n",
        "    return lado * lado\n",
        "\n",
        "def area_triangulo(base, altura):\n",
        "    return (base * altura) / 2\n",
        "\n",
        "def pedir_numero(mensaje):\n",
        "\n",
        "    while True:\n",
        "        try:\n",
        "            valor = float(input(mensaje))\n",
        "            return valor\n",
        "        except ValueError:\n",
        "            print(\"Por favor, ingresa un número válido.\")\n",
        "\n",
        "def pedir_datos_y_calcular():\n",
        "    print(\"¿que calculo deseas realizar?\")\n",
        "    print(\"1. area de un rectangulo\")\n",
        "    print(\"2. area de un cuadrado\")\n",
        "    print(\"3. area de un triangulo\")\n",
        "    print(\"4. circunferencia de un circulo\")\n",
        "    opcion = pedir_numero(\"elige una opcion (1-4): \")\n",
        "\n",
        "    if opcion == 1:\n",
        "        longitud = pedir_numero(\"introduce la longitud del rectangulo: \")\n",
        "        anchura = pedir_numero(\"introduce la anchura del rectangulo: \")\n",
        "        print(f\"el area del rectangulo es: {calcular_area_rectangulo(longitud, anchura)}\")\n",
        "    elif opcion == 2:\n",
        "        lado = pedir_numero(\"introduce el lado del cuadrado: \")\n",
        "        print(f\"el area del cuadrado es: {area_cuadrado(lado)}\")\n",
        "    elif opcion == 3:\n",
        "        base = pedir_numero(\"introduce la base del triangulo: \")\n",
        "        altura = pedir_numero(\"introduce la altura del triangulo: \")\n",
        "        print(f\"el area del triangulo es: {area_triangulo(base, altura)}\")\n",
        "    elif opcion == 4:\n",
        "        radio = pedir_numero(\"introduce el radio del circulo: \")\n",
        "        print(f\"la circunferencia del circulo es: {calcular_circunferencia(radio)}\")\n",
        "    else:\n",
        "        print(\"Opcion no valida. Por favor, elige una opción entre 1 y 4.\")\n",
        "\n",
        "pedir_datos_y_calcular()"
      ],
      "metadata": {
        "colab": {
          "base_uri": "https://localhost:8080/"
        },
        "id": "aYPQNALDiIwg",
        "outputId": "4d0c275f-b4bb-4f9e-9f95-5df1c4a17a9a"
      },
      "execution_count": null,
      "outputs": [
        {
          "output_type": "stream",
          "name": "stdout",
          "text": [
            "¿que calculo deseas realizar?\n",
            "1. area de un rectangulo\n",
            "2. area de un cuadrado\n",
            "3. area de un triangulo\n",
            "4. circunferencia de un circulo\n",
            "elige una opcion (1-4): 3\n",
            "introduce la base del triangulo: sdf\n",
            "Por favor, ingresa un número válido.\n",
            "introduce la base del triangulo: 12\n",
            "introduce la altura del triangulo: 20\n",
            "el area del triangulo es: 120.0\n"
          ]
        }
      ]
    },
    {
      "cell_type": "markdown",
      "source": [
        "#Actividad 1°\n"
      ],
      "metadata": {
        "id": "1CR92jPlJaoO"
      }
    },
    {
      "cell_type": "markdown",
      "source": [
        " desarrolle un algoritmo, que dado un numero ingresado por teclado retorne su raiz cuadrada y el numoer elevado al cuadrado"
      ],
      "metadata": {
        "id": "jYw5DlQrJli9"
      }
    },
    {
      "cell_type": "code",
      "source": [
        "import math\n",
        "\n",
        "#recordar ejecutar este bloque para que funcione tanto math como la funcion de validar numero\n",
        "\n",
        "def numero_cuadrado(x):\n",
        "  return round(x**2, 2)\n",
        "\n",
        "def raiz_cuadrada(x):\n",
        "  return round(math.sqrt(x), 2)\n",
        "\n",
        "def pedir_numero(mensaje):\n",
        "  while True:\n",
        "      try:\n",
        "          valor = float(input(mensaje))\n",
        "          return valor\n",
        "      except ValueError:\n",
        "          print(\"Por favor, ingresa un número válido.\")\n",
        "\n",
        "def print_raiz_and_cuadrado ():\n",
        "\n",
        "  numero = pedir_numero(\"porfavor ingrese el numero de cual quiere obtener la raiz cuadrada y la potencia cuadrada \")\n",
        "  print(f\"La raiz cuadrada de su numero es: {raiz_cuadrada(numero)}\")\n",
        "  print(f\"El cuadrado de su numero es {numero_cuadrado(numero)}\")\n",
        "\n",
        "\n",
        "print_raiz_and_cuadrado()"
      ],
      "metadata": {
        "id": "jn9GYxqqJjuN",
        "colab": {
          "base_uri": "https://localhost:8080/"
        },
        "outputId": "f900b1f9-72ed-462b-9382-ffbbeff9190e"
      },
      "execution_count": null,
      "outputs": [
        {
          "output_type": "stream",
          "name": "stdout",
          "text": [
            "porfavor ingrese el numero de cual quiere obtener la raiz cuadrada y la potencia cuadrada 2\n",
            "La raiz cuadrada de su numero es: 1.41\n",
            "El cuadrado de su numero es 4.0\n"
          ]
        }
      ]
    },
    {
      "cell_type": "code",
      "source": [
        "def suma_redondeada(x:float , y:float):\n",
        "  return round(x + y, 2)\n",
        "\n",
        "x = pedir_numero(\"ingrese su float \")\n",
        "y = pedir_numero(\"ingrese su float \")\n",
        "\n",
        "print(f\"su numero sumado es y redondeado a dos cifras es {suma_redondeada(x, y)}\")"
      ],
      "metadata": {
        "colab": {
          "base_uri": "https://localhost:8080/"
        },
        "id": "khn5KpeROuyj",
        "outputId": "1ca00e0a-a8d3-45b8-9aab-67f0ca45ef38"
      },
      "execution_count": null,
      "outputs": [
        {
          "output_type": "stream",
          "name": "stdout",
          "text": [
            "ingrese su float 23.3242\n",
            "ingrese su float 3.3242\n",
            "su numero sumado es y redondeado a dos cifras es 26.65\n"
          ]
        }
      ]
    },
    {
      "cell_type": "code",
      "source": [
        "def area(n,s):\n",
        "  return (n*s**2) / (4 * math.tan(math.pi/n))\n",
        "\n",
        "n = pedir_numero(\"numero de lados \")\n",
        "s = pedir_numero(\"longitud \")\n",
        "\n",
        "print(f\"el area es {round(area(n, s), 4)}\")"
      ],
      "metadata": {
        "id": "HHogb7o1JG5N",
        "colab": {
          "base_uri": "https://localhost:8080/"
        },
        "outputId": "c6cfd0c0-69de-4bc0-9b1a-6350d2ee7350"
      },
      "execution_count": null,
      "outputs": [
        {
          "output_type": "stream",
          "name": "stdout",
          "text": [
            "numero de lados 4\n",
            "longitud 4.5\n",
            "el area es 20.25\n"
          ]
        }
      ]
    },
    {
      "cell_type": "code",
      "source": [
        "print(\"1. si eres hombre escribe M \")\n",
        "print(\"2. si eres mujer escribe F \")\n",
        "genero = input(\"Ingresa tu genero \")\n",
        "edad = int(input(\"ingresa tu edad \"))\n",
        "genero_str = \"\"\n",
        "edad_str = \"\"\n",
        "if genero != \"M\" | genero != \"F\":\n",
        "  print(\"ingresa uno de las opciones \")\n",
        "\n",
        "if genero ==\"M\":\n",
        "  genero_str = \" Hombre \"\n",
        "\n",
        "if genero == \"F\":\n",
        "  genero_str = \" Mujer \"\n",
        "\n",
        "if edad >= 18:\n",
        "  edad_str = \"mayor de edad\"\n",
        "else:\n",
        "  edad_str =\"menor de edad\"\n",
        "\n",
        "print(f\"eres {genero_str} y eres {edad_str}\")"
      ],
      "metadata": {
        "colab": {
          "base_uri": "https://localhost:8080/"
        },
        "id": "bsC_X_i-VF8x",
        "outputId": "93ddf214-b849-4bc1-b8b3-a37fba76f97a"
      },
      "execution_count": null,
      "outputs": [
        {
          "output_type": "stream",
          "name": "stdout",
          "text": [
            "1. si eres hombre escribe M \n",
            "2. si eres mujer escribe F \n",
            "Ingresa tu genero asdf\n",
            "ingresa tu edad 12\n",
            "eres  y eres menor de edad\n"
          ]
        }
      ]
    },
    {
      "cell_type": "markdown",
      "source": [
        "#Fundamentos de programación Taller condicional IF"
      ],
      "metadata": {
        "id": "vvVat6FEAmES"
      }
    },
    {
      "cell_type": "code",
      "source": [
        "#funciones generales para el correcto funcionamiento del los ejercicios, ejecutar previamente\n",
        "\n",
        "def pedir_numero(mensaje):\n",
        "  while True:\n",
        "      try:\n",
        "          valor = float(input(mensaje))\n",
        "          return valor\n",
        "      except ValueError:\n",
        "          print(\"Por favor, ingresa un número válido.\")\n"
      ],
      "metadata": {
        "id": "EBTvzzFFbC8N"
      },
      "execution_count": null,
      "outputs": []
    },
    {
      "cell_type": "markdown",
      "source": [
        "##Enunciado 1\n",
        "\n",
        "Un vendedor de accesorios y perfumes recibe un sueldo base, adicional a este sueldo recibe\n",
        "un porcentaje (10%) extra por comisiones de sus ventas. El vendedor desea saber cuánto dinero\n",
        "obtendrá si realiza tres (3) ventas en el mes, y el total que recibirá en el mes, tomando en cuenta\n",
        "su salario más las comisiones. Si el total de las comisiones sobrepasan un monto de 200.000\n",
        "pesos, se debe imprimir un mensaje donde se indique si el vendedor se hace acreedor a un\n",
        "obsequio.\n",
        "\n",
        "Diseñe un algoritmo que calcule y muestre el total a pagar de comisiones para el vendedor, calcule\n",
        "y muestre el total a pagar en el mes al vendedor, y para finalizar, muestre un mensaje si el\n",
        "vendedor se hizo o no acreedor a un obsequio, teniendo en cuenta que la condición es que el\n",
        "monto sea superior a $200.000 en comisiones.\n",
        "\n",
        "Se debe pedir como dato de entrada el sueldo base (float), venta1 (float), venta2 (float) y venta3\n",
        "(float), y a partir de estos datos realizar los cálculos necesarios para mostrar en la salida.\n",
        "La respuesta debe ser expresada con dos cifras decimales en todos los casos"
      ],
      "metadata": {
        "id": "t-W_MY98AwIQ"
      }
    },
    {
      "cell_type": "code",
      "source": [
        "#Ejecutar funciones generales antes de ejecutar este bloque\n",
        "def calcular_comision(porcentaje:float, monto: float):\n",
        "  return porcentaje*monto/100\n",
        "\n",
        "def obsequio(comision :float, monto:float ):\n",
        "\n",
        "  if comision >=monto :\n",
        "    print(\"Eres acreedor de un obsequio\")\n",
        "    return\n",
        "  return\n",
        "\n",
        "def calcular_sueldo(sueldo_base:float, ventas:float):\n",
        "\n",
        "  comision = calcular_comision(10, ventas)\n",
        "  sueldo_total = sueldo_base + comision\n",
        "\n",
        "  print(f\"tu sueldo base es de {sueldo_base}\")\n",
        "  print(f\"tu sueldo mas comision es de {round(sueldo_total,2)}\")\n",
        "  obsequio(comision, 200000)\n",
        "\n",
        "\n",
        "def entrada_datos():\n",
        "\n",
        "  sueldo_base = pedir_numero(\" ingrese el sueldo base del vendedor \")\n",
        "  venta_1 = pedir_numero(\" ingrese el valor base de la primera venta \")\n",
        "  venta_2 = pedir_numero(\" ingrese el valor base de la sengunda venta \")\n",
        "  venta_3 = pedir_numero(\" ingrese el valor base de la tercera venta \")\n",
        "\n",
        "  ventas = venta_1 + venta_2 + venta_3\n",
        "\n",
        "  calcular_sueldo(sueldo_base, ventas)\n",
        "\n",
        "entrada_datos()"
      ],
      "metadata": {
        "colab": {
          "base_uri": "https://localhost:8080/"
        },
        "id": "1Iq5KiA7AiUZ",
        "outputId": "f115f436-3e7b-437c-83b6-f6b601c1834d"
      },
      "execution_count": null,
      "outputs": [
        {
          "output_type": "stream",
          "name": "stdout",
          "text": [
            " ingrese el sueldo base del vendedor 423452.4235\n",
            " ingrese el valor base de la primera venta 3452.2435\n",
            " ingrese el valor base de la sengunda venta 234.4235\n",
            " ingrese el valor base de la tercera venta 3452.4235\n",
            "tu sueldo base es de 423452.4235\n",
            "tu sueldo mas comision es de 424166.33\n"
          ]
        }
      ]
    },
    {
      "cell_type": "markdown",
      "source": [],
      "metadata": {
        "id": "bp3tp9qWBBmX"
      }
    },
    {
      "cell_type": "markdown",
      "source": [
        "##Enunciado 2\n",
        "\n",
        "El cuadrante en el que reside una línea trazada desde el origen es determinado\n",
        "por el ángulo que forma la línea con el eje x positivo como sigue:\n",
        " Entre 0 y 90 grados I cuadrante\n",
        "\n",
        " Entre 90 y 180 grados II cuadrante\n",
        "\n",
        " Entre 180 y 270 grados III cuadrante\n",
        "\n",
        " Entre 270 y 360 grados I cuadrante\n",
        "\n",
        "Usando esta información, escriba un algoritmo que acepte el ángulo en grados\n",
        "como dato de entrada y determine el cuadrante apropiado de los datos\n",
        "introducidos. Si el ángulo tiene exactamente 0, 180 o 360 grados, la línea se\n",
        "encuentra en el eje x, y si el ángulo tiene exactamente 90 o 270 grados la línea se encuentra en el eje y.\n",
        "\n",
        "Nota: Los ángulos a evaluar en el algoritmo son positivos, en caso contrario se\n",
        "debe mostrar el mensaje \"Dato erróneo\".\n",
        "\n",
        "Se debe pedir como dato de entrada el ángulo (float), a partir de este, realizar los cálculos necesarios para mostrar la información solicitada del ángulo."
      ],
      "metadata": {
        "id": "GOPc3dXMSccy"
      }
    },
    {
      "cell_type": "code",
      "source": [
        "#Ejecutar funciones generales antes de ejecutar este bloque\n",
        "def definir_caudrante( angulo:float = 0 ):\n",
        "  cuadrante= \"\"\n",
        "  eje = \"\"\n",
        "  if angulo < 0 :\n",
        "    print(\"Dato erroneo\")\n",
        "    return\n",
        "  #para que los datos superiores a 360 sea posible operarlos con normalidad\n",
        "  angulo = angulo % 360\n",
        "\n",
        "  if angulo >= 0 and angulo < 90:\n",
        "    cuadrante = \"I\"\n",
        "  if angulo >= 90 and angulo < 180:\n",
        "    cuadrante = \"II\"\n",
        "  if angulo >= 180 and angulo < 270:\n",
        "    cuadrante = \"III\"\n",
        "  if angulo >= 270 and angulo < 360:\n",
        "    cuadrante = \"I\"\n",
        "\n",
        "\n",
        "  if angulo == 0 or angulo == 180 or angulo == 360:\n",
        "    eje = \"y Pertenece al eje X \"\n",
        "  elif angulo == 90 or angulo == 270:\n",
        "    eje = \"y Pertenece al eje Y \"\n",
        "\n",
        "  print(f\"El caudrante al que pertenece es al cuadrante {cuadrante} {eje}\")\n",
        "\n",
        "\n",
        "definir_caudrante(pedir_numero(\" ingrese el algunulo para averiguar el vector y el eje en el que se encuetra \"))"
      ],
      "metadata": {
        "colab": {
          "base_uri": "https://localhost:8080/"
        },
        "id": "GQ6gvLbHSqYn",
        "outputId": "c2efb42d-7bfa-4834-bf1a-8c2c7bbff7db"
      },
      "execution_count": null,
      "outputs": [
        {
          "output_type": "stream",
          "name": "stdout",
          "text": [
            " ingrese el algunulo para averiguar el vector y el eje en el que se encuetra 180\n",
            "El caudrante al que pertenece es al cuadrante III y Pertenece al eje X \n"
          ]
        }
      ]
    },
    {
      "cell_type": "markdown",
      "source": [
        "#Enunciado 3\n",
        "\n",
        "En una tienda de ropa se desea calcular el monto de las comisiones que\n",
        "recibirá un vendedor, cuyos datos obtenidos son: su nombre (str), total de\n",
        "unidades que vendió (int) y el precio del artículo vendido (float).\n",
        "A partir de esta información se debe calcular el monto de dicha comisión de la\n",
        "siguiente forma: Si el precio del artículo es de $20.000 o menos, la comisión es del 3%, si el precio del artículo es mayor que 20.000 pero menor que 50.000 la comisión será del 5%, si el precio del artículo es mayor o igual que 50.000 la comisión será del 10%.\n",
        "Diseñe un algoritmo que muestre el título del programa \"MONTO DE COMISIONES\"\n",
        "(str), calcule y muestre también el nombre del vendedor (str) junto con el total a pagar de comisiones (float).\n",
        "Se debe pedir como dato de entrada el nombre del vendedor (str), la cantidad de\n",
        "unidades vendidas (int), y el precio del artículo (float). Y, a partir de estos datos, realizar los cálculos necesarios para mostrar el monto de comisiones que recibirá un vendedor"
      ],
      "metadata": {
        "id": "4dUmiB1Ue6-S"
      }
    },
    {
      "cell_type": "code",
      "source": [
        "#Ejecutar funciones generales antes de ejecutar este bloque\n",
        "def calcular_porcentaje_comision(porcentaje:float, monto: float):\n",
        "  return porcentaje*monto/100\n",
        "\n",
        "def obtener_comision(monto:float)->int:\n",
        "  comision = 0\n",
        "  if monto <= 20000:\n",
        "    comision = 3\n",
        "\n",
        "  if monto > 20000 and monto < 50000:\n",
        "    comision = 5\n",
        "\n",
        "  if monto >= 50000:\n",
        "    comision = 10\n",
        "\n",
        "  return comision\n",
        "\n",
        "def datos_vendedor():\n",
        "\n",
        "  print(\"MONTO DE COMISIONES\")\n",
        "\n",
        "  vendedor = input(\" Porfavor ingrese su nombre completo \")\n",
        "  No_ventas = pedir_numero(\" Ingrese el numero de ventas que realizo \")\n",
        "\n",
        "  valor_articulo = pedir_numero(\" ingrese el valor del articulo vendido \")\n",
        "\n",
        "\n",
        "  porcentaje_comision = obtener_comision(valor_articulo)\n",
        "  monto_total = valor_articulo * No_ventas\n",
        "  calcular_comision = calcular_porcentaje_comision(porcentaje_comision, monto_total)\n",
        "\n",
        "  print(f\"Hola {vendedor}, el monto total de tu comision por esta venta es de {calcular_comision}\")\n",
        "\n",
        "\n",
        "datos_vendedor()"
      ],
      "metadata": {
        "id": "UBM44odkfC-6",
        "colab": {
          "base_uri": "https://localhost:8080/"
        },
        "outputId": "47cd7cdc-ffc1-4ee6-81a5-162c9778b10f"
      },
      "execution_count": null,
      "outputs": [
        {
          "output_type": "stream",
          "name": "stdout",
          "text": [
            "MONTO DE COMISIONES\n",
            " Porfavor ingrese su nombre completo fasdf\n",
            " Ingrese el numero de ventas que realizo 0\n",
            " ingrese el valor del articulo vendido 1243\n",
            "No a realizado ninguna venta\n"
          ]
        }
      ]
    }
  ]
}